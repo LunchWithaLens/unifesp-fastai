{
 "cells": [
  {
   "cell_type": "markdown",
   "id": "3b5658ab",
   "metadata": {},
   "source": [
    "# Initial look at the unifesp Kaggle data"
   ]
  },
  {
   "cell_type": "markdown",
   "id": "6a2d249e",
   "metadata": {},
   "source": [
    "Abdomen = 0\n",
    "Ankle = 1\n",
    "Cervical Spine = 2\n",
    "Chest = 3\n",
    "Clavicles = 4\n",
    "Elbow = 5\n",
    "Feet = 6\n",
    "Finger = 7\n",
    "Forearm = 8\n",
    "Hand = 9\n",
    "Hip = 10\n",
    "Knee = 11\n",
    "Lower Leg = 12\n",
    "Lumbar Spine = 13\n",
    "Others = 14\n",
    "Pelvis = 15\n",
    "Shoulder = 16\n",
    "Sinus = 17\n",
    "Skull = 18\n",
    "Thigh = 19\n",
    "Thoracic Spine = 20\n",
    "Wrist = 21"
   ]
  },
  {
   "cell_type": "code",
   "execution_count": 2,
   "id": "b7eb9d9e",
   "metadata": {},
   "outputs": [
    {
     "name": "stdout",
     "output_type": "stream",
     "text": [
      "The operation couldn’t be completed. Unable to locate a Java Runtime.\n",
      "Please visit http://www.java.com for information on installing Java.\n",
      "\n"
     ]
    }
   ],
   "source": [
    "#%%bash\n",
    "\n",
    "#exec bash\n",
    "!rm -rf data\n",
    "!mkdir data\n",
    "!apt install unzip"
   ]
  },
  {
   "cell_type": "code",
   "execution_count": 1,
   "id": "94c73b3a",
   "metadata": {},
   "outputs": [
    {
     "name": "stdout",
     "output_type": "stream",
     "text": [
      "Collecting timm==0.6.2dev0\n",
      "  Downloading timm-0.6.2.dev0-py3-none-any.whl (497 kB)\n",
      "\u001b[K     |████████████████████████████████| 497 kB 13.4 MB/s eta 0:00:01\n",
      "\u001b[?25hRequirement already satisfied: torchvision in /opt/conda/lib/python3.7/site-packages (from timm==0.6.2dev0) (0.11.0)\n",
      "Requirement already satisfied: torch>=1.4 in /opt/conda/lib/python3.7/site-packages (from timm==0.6.2dev0) (1.10.0)\n",
      "Requirement already satisfied: typing_extensions in /opt/conda/lib/python3.7/site-packages (from torch>=1.4->timm==0.6.2dev0) (3.10.0.2)\n",
      "Requirement already satisfied: numpy in /opt/conda/lib/python3.7/site-packages (from torchvision->timm==0.6.2dev0) (1.21.2)\n",
      "Requirement already satisfied: pillow!=8.3.0,>=5.3.0 in /opt/conda/lib/python3.7/site-packages (from torchvision->timm==0.6.2dev0) (8.4.0)\n",
      "Installing collected packages: timm\n",
      "Successfully installed timm-0.6.2.dev0\n",
      "Note: you may need to restart the kernel to use updated packages.\n"
     ]
    }
   ],
   "source": [
    "pip install -U timm==0.6.2dev0"
   ]
  },
  {
   "cell_type": "code",
   "execution_count": 4,
   "id": "998a84b8",
   "metadata": {},
   "outputs": [
    {
     "name": "stdout",
     "output_type": "stream",
     "text": [
      "unifesp-x-ray-body-part-classifier.zip: Skipping, found more recently modified local copy (use --force to force download)\n"
     ]
    }
   ],
   "source": [
    "!cd data && kaggle competitions download -c unifesp-x-ray-body-part-classifier && unzip -q unifesp-x-ray-body-part-classifier"
   ]
  },
  {
   "cell_type": "code",
   "execution_count": 1,
   "id": "2be40ddd",
   "metadata": {},
   "outputs": [],
   "source": [
    "import timm"
   ]
  },
  {
   "cell_type": "code",
   "execution_count": 2,
   "id": "4fa36b17",
   "metadata": {},
   "outputs": [
    {
     "name": "stdout",
     "output_type": "stream",
     "text": [
      "\u001b[0m\u001b[01;34mtest\u001b[0m/  \u001b[01;34mtrain\u001b[0m/  train2_df.csv\n"
     ]
    }
   ],
   "source": [
    "ls images/"
   ]
  },
  {
   "cell_type": "code",
   "execution_count": 3,
   "id": "59e93bc6",
   "metadata": {},
   "outputs": [
    {
     "name": "stdout",
     "output_type": "stream",
     "text": [
      "1.2.826.0.1.3680043.8.498.10025629581362719970278200333618114258-c.png\n",
      "1.2.826.0.1.3680043.8.498.10036150326276641158002573300029848125-c.png\n",
      "1.2.826.0.1.3680043.8.498.10038426859954986240523417641213777162-c.png\n",
      "1.2.826.0.1.3680043.8.498.10050991192143676483577217922037244257-c.png\n",
      "1.2.826.0.1.3680043.8.498.10053309524595490852815579052225336016-c.png\n",
      "1.2.826.0.1.3680043.8.498.10053755320637729867508668285241208441-c.png\n",
      "1.2.826.0.1.3680043.8.498.10062189329714053601496804394945741428-c.png\n",
      "1.2.826.0.1.3680043.8.498.10065930002825553435161793347987832017-c.png\n",
      "1.2.826.0.1.3680043.8.498.10072001800484199846734151421006166369-c.png\n",
      "1.2.826.0.1.3680043.8.498.10077219503857952412254959562456136784-c.png\n",
      "ls: write error: Broken pipe\n"
     ]
    }
   ],
   "source": [
    "ls images/train | head"
   ]
  },
  {
   "cell_type": "code",
   "execution_count": 4,
   "id": "bdcf692d",
   "metadata": {},
   "outputs": [
    {
     "name": "stdout",
     "output_type": "stream",
     "text": [
      "1.2.826.0.1.3680043.8.498.10001001190452685542754353271306894106-c.png\n",
      "1.2.826.0.1.3680043.8.498.10022667601042710442884728915610557590-c.png\n",
      "1.2.826.0.1.3680043.8.498.10024395388921105474336784272390605225-c.png\n",
      "1.2.826.0.1.3680043.8.498.10026689165626095651568657562992631805-c.png\n",
      "1.2.826.0.1.3680043.8.498.10035936364561920980924160549027696414-c.png\n",
      "1.2.826.0.1.3680043.8.498.10048151016194111821946577128316853508-c.png\n",
      "1.2.826.0.1.3680043.8.498.10050288866897098549171724525519515056-c.png\n",
      "1.2.826.0.1.3680043.8.498.10058159876923426607443905471214229386-c.png\n",
      "1.2.826.0.1.3680043.8.498.10080393723513249121106839017290899983-c.png\n",
      "1.2.826.0.1.3680043.8.498.10111879479980116660072960146970217082-c.png\n",
      "ls: write error: Broken pipe\n"
     ]
    }
   ],
   "source": [
    "ls images/test | head"
   ]
  },
  {
   "cell_type": "code",
   "execution_count": 2,
   "id": "2305d3dc",
   "metadata": {},
   "outputs": [
    {
     "data": {
      "text/html": [
       "<div>\n",
       "<style scoped>\n",
       "    .dataframe tbody tr th:only-of-type {\n",
       "        vertical-align: middle;\n",
       "    }\n",
       "\n",
       "    .dataframe tbody tr th {\n",
       "        vertical-align: top;\n",
       "    }\n",
       "\n",
       "    .dataframe thead th {\n",
       "        text-align: right;\n",
       "    }\n",
       "</style>\n",
       "<table border=\"1\" class=\"dataframe\">\n",
       "  <thead>\n",
       "    <tr style=\"text-align: right;\">\n",
       "      <th></th>\n",
       "      <th>SOPInstanceUID</th>\n",
       "      <th>Target</th>\n",
       "    </tr>\n",
       "  </thead>\n",
       "  <tbody>\n",
       "    <tr>\n",
       "      <th>0</th>\n",
       "      <td>1.2.826.0.1.3680043.8.498.10001001190452685542...</td>\n",
       "      <td>0 1 2 3 4 5 6 7 8 9 10 11 12 13 14 15 16 17 18...</td>\n",
       "    </tr>\n",
       "    <tr>\n",
       "      <th>1</th>\n",
       "      <td>1.2.826.0.1.3680043.8.498.10022667601042710442...</td>\n",
       "      <td>0 1 2 3 4 5 6 7 8 9 10 11 12 13 14 15 16 17 18...</td>\n",
       "    </tr>\n",
       "    <tr>\n",
       "      <th>2</th>\n",
       "      <td>1.2.826.0.1.3680043.8.498.10024395388921105474...</td>\n",
       "      <td>0 1 2 3 4 5 6 7 8 9 10 11 12 13 14 15 16 17 18...</td>\n",
       "    </tr>\n",
       "    <tr>\n",
       "      <th>3</th>\n",
       "      <td>1.2.826.0.1.3680043.8.498.10026689165626095651...</td>\n",
       "      <td>0 1 2 3 4 5 6 7 8 9 10 11 12 13 14 15 16 17 18...</td>\n",
       "    </tr>\n",
       "    <tr>\n",
       "      <th>4</th>\n",
       "      <td>1.2.826.0.1.3680043.8.498.10035936364561920980...</td>\n",
       "      <td>0 1 2 3 4 5 6 7 8 9 10 11 12 13 14 15 16 17 18...</td>\n",
       "    </tr>\n",
       "  </tbody>\n",
       "</table>\n",
       "</div>"
      ],
      "text/plain": [
       "                                      SOPInstanceUID  \\\n",
       "0  1.2.826.0.1.3680043.8.498.10001001190452685542...   \n",
       "1  1.2.826.0.1.3680043.8.498.10022667601042710442...   \n",
       "2  1.2.826.0.1.3680043.8.498.10024395388921105474...   \n",
       "3  1.2.826.0.1.3680043.8.498.10026689165626095651...   \n",
       "4  1.2.826.0.1.3680043.8.498.10035936364561920980...   \n",
       "\n",
       "                                              Target  \n",
       "0  0 1 2 3 4 5 6 7 8 9 10 11 12 13 14 15 16 17 18...  \n",
       "1  0 1 2 3 4 5 6 7 8 9 10 11 12 13 14 15 16 17 18...  \n",
       "2  0 1 2 3 4 5 6 7 8 9 10 11 12 13 14 15 16 17 18...  \n",
       "3  0 1 2 3 4 5 6 7 8 9 10 11 12 13 14 15 16 17 18...  \n",
       "4  0 1 2 3 4 5 6 7 8 9 10 11 12 13 14 15 16 17 18...  "
      ]
     },
     "execution_count": 2,
     "metadata": {},
     "output_type": "execute_result"
    }
   ],
   "source": [
    "import pandas as pd\n",
    "\n",
    "sample_sub = pd.read_csv('sample_submission.csv')\n",
    "sample_sub.head()"
   ]
  },
  {
   "cell_type": "code",
   "execution_count": 3,
   "id": "aa5fd91a",
   "metadata": {},
   "outputs": [],
   "source": [
    "df = pd.read_csv('train2_df.csv')"
   ]
  },
  {
   "cell_type": "markdown",
   "id": "8f2ba67a",
   "metadata": {},
   "source": [
    "Split the 2nd column on space, so the categories have their own columns.  Then just do single classification first."
   ]
  },
  {
   "cell_type": "code",
   "execution_count": 4,
   "id": "09ad8b64",
   "metadata": {},
   "outputs": [],
   "source": [
    "#df.insert(2, \"Target2\",\"\",True)\n",
    "#df.insert(3, \"Target3\",\"\",True)\n",
    "#df.insert(4, \"Target4\",\"\",True)\n",
    "#df.insert(5, \"Target5\",\"\",True)\n",
    "#df[['Target1','Target2','Target3','Target4','Target5']] = df['Target'].str.split(' ', expand=True)"
   ]
  },
  {
   "cell_type": "code",
   "execution_count": 5,
   "id": "21b72419",
   "metadata": {},
   "outputs": [],
   "source": [
    "from fastai.vision.all import *\n",
    "from fastcore.parallel import *"
   ]
  },
  {
   "cell_type": "code",
   "execution_count": 6,
   "id": "cf929917",
   "metadata": {},
   "outputs": [],
   "source": [
    "path = Path()\n",
    "trn_path= 'images/train'\n",
    "tst_files = get_image_files('images/test').sorted()"
   ]
  },
  {
   "cell_type": "code",
   "execution_count": 7,
   "id": "f29cb855",
   "metadata": {},
   "outputs": [],
   "source": [
    "tta_res = []"
   ]
  },
  {
   "cell_type": "code",
   "execution_count": 8,
   "id": "7f181d6f-88a7-41a5-95a3-15a1f0c409a7",
   "metadata": {},
   "outputs": [
    {
     "data": {
      "text/plain": [
       "(#743) [Path('images/test/1.2.826.0.1.3680043.8.498.10001001190452685542754353271306894106-c.png'),Path('images/test/1.2.826.0.1.3680043.8.498.10022667601042710442884728915610557590-c.png'),Path('images/test/1.2.826.0.1.3680043.8.498.10024395388921105474336784272390605225-c.png'),Path('images/test/1.2.826.0.1.3680043.8.498.10026689165626095651568657562992631805-c.png'),Path('images/test/1.2.826.0.1.3680043.8.498.10035936364561920980924160549027696414-c.png'),Path('images/test/1.2.826.0.1.3680043.8.498.10048151016194111821946577128316853508-c.png'),Path('images/test/1.2.826.0.1.3680043.8.498.10050288866897098549171724525519515056-c.png'),Path('images/test/1.2.826.0.1.3680043.8.498.10058159876923426607443905471214229386-c.png'),Path('images/test/1.2.826.0.1.3680043.8.498.10080393723513249121106839017290899983-c.png'),Path('images/test/1.2.826.0.1.3680043.8.498.10111879479980116660072960146970217082-c.png')...]"
      ]
     },
     "execution_count": 8,
     "metadata": {},
     "output_type": "execute_result"
    }
   ],
   "source": [
    "tst_files"
   ]
  },
  {
   "cell_type": "code",
   "execution_count": 9,
   "id": "92bcf511",
   "metadata": {},
   "outputs": [],
   "source": [
    "def train(desc, arch, item, batch, accum=False):\n",
    "    kwargs = {'bs':32} if accum else{}\n",
    "    dls = ImageDataLoaders.from_csv(path, csv_fname='train4_df.csv', fn_col=-1, label_col=1, valid_pct=0.2, item_tfms=item, batch_tfms=batch, **kwargs)\n",
    "    cbs = GradientAccumulation(2) if accum else []\n",
    "    learn = vision_learner(dls, arch, metrics=error_rate, cbs=cbs).to_fp16()\n",
    "    learn.fine_tune(13, 0.01)\n",
    "    tta_res.append(learn.tta(dl=dls.test_dl(tst_files)))\n",
    "    learn.export(f'{arch}_{desc}')"
   ]
  },
  {
   "cell_type": "code",
   "execution_count": 13,
   "id": "ea741391",
   "metadata": {},
   "outputs": [
    {
     "data": {
      "text/plain": [
       "['convnext_large',\n",
       " 'convnext_large_384_in22ft1k',\n",
       " 'convnext_large_in22ft1k',\n",
       " 'convnext_large_in22k']"
      ]
     },
     "execution_count": 13,
     "metadata": {},
     "output_type": "execute_result"
    }
   ],
   "source": [
    "timm.list_models(\"convnext_large*\")"
   ]
  },
  {
   "cell_type": "code",
   "execution_count": 14,
   "id": "4bdeace2",
   "metadata": {},
   "outputs": [],
   "source": [
    "arch = (\"convnext_large_in22k\")"
   ]
  },
  {
   "cell_type": "code",
   "execution_count": 16,
   "id": "8c7e94c4",
   "metadata": {},
   "outputs": [
    {
     "data": {
      "text/html": [
       "<table border=\"1\" class=\"dataframe\">\n",
       "  <thead>\n",
       "    <tr style=\"text-align: left;\">\n",
       "      <th>epoch</th>\n",
       "      <th>train_loss</th>\n",
       "      <th>valid_loss</th>\n",
       "      <th>error_rate</th>\n",
       "      <th>time</th>\n",
       "    </tr>\n",
       "  </thead>\n",
       "  <tbody>\n",
       "    <tr>\n",
       "      <td>0</td>\n",
       "      <td>1.765820</td>\n",
       "      <td>0.865617</td>\n",
       "      <td>0.190031</td>\n",
       "      <td>00:45</td>\n",
       "    </tr>\n",
       "  </tbody>\n",
       "</table>"
      ],
      "text/plain": [
       "<IPython.core.display.HTML object>"
      ]
     },
     "metadata": {},
     "output_type": "display_data"
    },
    {
     "data": {
      "text/html": [
       "<table border=\"1\" class=\"dataframe\">\n",
       "  <thead>\n",
       "    <tr style=\"text-align: left;\">\n",
       "      <th>epoch</th>\n",
       "      <th>train_loss</th>\n",
       "      <th>valid_loss</th>\n",
       "      <th>error_rate</th>\n",
       "      <th>time</th>\n",
       "    </tr>\n",
       "  </thead>\n",
       "  <tbody>\n",
       "    <tr>\n",
       "      <td>0</td>\n",
       "      <td>0.618739</td>\n",
       "      <td>0.506599</td>\n",
       "      <td>0.133956</td>\n",
       "      <td>00:56</td>\n",
       "    </tr>\n",
       "    <tr>\n",
       "      <td>1</td>\n",
       "      <td>0.493793</td>\n",
       "      <td>0.361286</td>\n",
       "      <td>0.084112</td>\n",
       "      <td>00:54</td>\n",
       "    </tr>\n",
       "    <tr>\n",
       "      <td>2</td>\n",
       "      <td>0.366879</td>\n",
       "      <td>0.286556</td>\n",
       "      <td>0.077882</td>\n",
       "      <td>00:54</td>\n",
       "    </tr>\n",
       "    <tr>\n",
       "      <td>3</td>\n",
       "      <td>0.335545</td>\n",
       "      <td>0.374092</td>\n",
       "      <td>0.087227</td>\n",
       "      <td>00:54</td>\n",
       "    </tr>\n",
       "    <tr>\n",
       "      <td>4</td>\n",
       "      <td>0.274055</td>\n",
       "      <td>0.392910</td>\n",
       "      <td>0.077882</td>\n",
       "      <td>00:54</td>\n",
       "    </tr>\n",
       "    <tr>\n",
       "      <td>5</td>\n",
       "      <td>0.227952</td>\n",
       "      <td>0.277310</td>\n",
       "      <td>0.059190</td>\n",
       "      <td>00:54</td>\n",
       "    </tr>\n",
       "    <tr>\n",
       "      <td>6</td>\n",
       "      <td>0.182754</td>\n",
       "      <td>0.283734</td>\n",
       "      <td>0.062305</td>\n",
       "      <td>00:54</td>\n",
       "    </tr>\n",
       "    <tr>\n",
       "      <td>7</td>\n",
       "      <td>0.146155</td>\n",
       "      <td>0.238520</td>\n",
       "      <td>0.059190</td>\n",
       "      <td>00:54</td>\n",
       "    </tr>\n",
       "    <tr>\n",
       "      <td>8</td>\n",
       "      <td>0.107812</td>\n",
       "      <td>0.269419</td>\n",
       "      <td>0.059190</td>\n",
       "      <td>00:54</td>\n",
       "    </tr>\n",
       "    <tr>\n",
       "      <td>9</td>\n",
       "      <td>0.080852</td>\n",
       "      <td>0.268578</td>\n",
       "      <td>0.065421</td>\n",
       "      <td>00:54</td>\n",
       "    </tr>\n",
       "    <tr>\n",
       "      <td>10</td>\n",
       "      <td>0.059777</td>\n",
       "      <td>0.248744</td>\n",
       "      <td>0.059190</td>\n",
       "      <td>00:54</td>\n",
       "    </tr>\n",
       "    <tr>\n",
       "      <td>11</td>\n",
       "      <td>0.045139</td>\n",
       "      <td>0.249502</td>\n",
       "      <td>0.059190</td>\n",
       "      <td>00:54</td>\n",
       "    </tr>\n",
       "    <tr>\n",
       "      <td>12</td>\n",
       "      <td>0.036865</td>\n",
       "      <td>0.246460</td>\n",
       "      <td>0.052960</td>\n",
       "      <td>00:54</td>\n",
       "    </tr>\n",
       "  </tbody>\n",
       "</table>"
      ],
      "text/plain": [
       "<IPython.core.display.HTML object>"
      ]
     },
     "metadata": {},
     "output_type": "display_data"
    },
    {
     "data": {
      "text/html": [
       "\n",
       "    <div>\n",
       "        <style>\n",
       "            /* Turns off some styling */\n",
       "            progress {\n",
       "                /* gets rid of default border in Firefox and Opera. */\n",
       "                border: none;\n",
       "                /* Needs to be in here for Safari polyfill so background images work as expected. */\n",
       "                background-size: auto;\n",
       "            }\n",
       "            .progress-bar-interrupted, .progress-bar-interrupted::-webkit-progress-bar {\n",
       "                background: #F44336;\n",
       "            }\n",
       "        </style>\n",
       "      <progress value='0' class='' max='13' style='width:300px; height:20px; vertical-align: middle;'></progress>\n",
       "      \n",
       "    </div>\n",
       "    \n"
      ],
      "text/plain": [
       "<IPython.core.display.HTML object>"
      ]
     },
     "metadata": {},
     "output_type": "display_data"
    },
    {
     "data": {
      "text/html": [],
      "text/plain": [
       "<IPython.core.display.HTML object>"
      ]
     },
     "metadata": {},
     "output_type": "display_data"
    }
   ],
   "source": [
    "train('Convnext', arch, item=Resize(448, method='squish'), batch=aug_transforms(size=224), accum=False)"
   ]
  },
  {
   "cell_type": "code",
   "execution_count": 17,
   "id": "7ae07f02",
   "metadata": {},
   "outputs": [],
   "source": [
    "save_pickle('tta_res_convnextPS1_2.pkl', tta_res)"
   ]
  },
  {
   "cell_type": "code",
   "execution_count": 10,
   "id": "3ebd0814",
   "metadata": {},
   "outputs": [],
   "source": [
    "tta_res=load_pickle('tta_res_convnextPS1_2.pkl')"
   ]
  },
  {
   "cell_type": "code",
   "execution_count": 11,
   "id": "0e8fa241-50d9-4aae-b857-df493d4bc0bb",
   "metadata": {},
   "outputs": [
    {
     "data": {
      "text/plain": [
       "['vit_large_patch14_224',\n",
       " 'vit_large_patch16_224',\n",
       " 'vit_large_patch16_224_in21k',\n",
       " 'vit_large_patch16_384',\n",
       " 'vit_large_patch32_224',\n",
       " 'vit_large_patch32_224_in21k',\n",
       " 'vit_large_patch32_384',\n",
       " 'vit_large_r50_s32_224',\n",
       " 'vit_large_r50_s32_224_in21k',\n",
       " 'vit_large_r50_s32_384']"
      ]
     },
     "execution_count": 11,
     "metadata": {},
     "output_type": "execute_result"
    }
   ],
   "source": [
    "timm.list_models(\"vit_large*\")"
   ]
  },
  {
   "cell_type": "code",
   "execution_count": 12,
   "id": "49baf4f8-5efb-4883-8c13-0f9a3fda7d25",
   "metadata": {},
   "outputs": [],
   "source": [
    "arch = 'vit_large_patch16_224_in21k'"
   ]
  },
  {
   "cell_type": "code",
   "execution_count": 14,
   "id": "e13095a9-d856-490b-9277-cd2086fd9a02",
   "metadata": {},
   "outputs": [
    {
     "data": {
      "text/html": [
       "<table border=\"1\" class=\"dataframe\">\n",
       "  <thead>\n",
       "    <tr style=\"text-align: left;\">\n",
       "      <th>epoch</th>\n",
       "      <th>train_loss</th>\n",
       "      <th>valid_loss</th>\n",
       "      <th>error_rate</th>\n",
       "      <th>time</th>\n",
       "    </tr>\n",
       "  </thead>\n",
       "  <tbody>\n",
       "    <tr>\n",
       "      <td>0</td>\n",
       "      <td>1.727285</td>\n",
       "      <td>0.987108</td>\n",
       "      <td>0.180685</td>\n",
       "      <td>00:57</td>\n",
       "    </tr>\n",
       "  </tbody>\n",
       "</table>"
      ],
      "text/plain": [
       "<IPython.core.display.HTML object>"
      ]
     },
     "metadata": {},
     "output_type": "display_data"
    },
    {
     "data": {
      "text/html": [
       "<table border=\"1\" class=\"dataframe\">\n",
       "  <thead>\n",
       "    <tr style=\"text-align: left;\">\n",
       "      <th>epoch</th>\n",
       "      <th>train_loss</th>\n",
       "      <th>valid_loss</th>\n",
       "      <th>error_rate</th>\n",
       "      <th>time</th>\n",
       "    </tr>\n",
       "  </thead>\n",
       "  <tbody>\n",
       "    <tr>\n",
       "      <td>0</td>\n",
       "      <td>0.526665</td>\n",
       "      <td>0.608248</td>\n",
       "      <td>0.124611</td>\n",
       "      <td>01:18</td>\n",
       "    </tr>\n",
       "    <tr>\n",
       "      <td>1</td>\n",
       "      <td>0.418735</td>\n",
       "      <td>0.576767</td>\n",
       "      <td>0.130841</td>\n",
       "      <td>01:18</td>\n",
       "    </tr>\n",
       "    <tr>\n",
       "      <td>2</td>\n",
       "      <td>0.401688</td>\n",
       "      <td>0.775531</td>\n",
       "      <td>0.155763</td>\n",
       "      <td>01:18</td>\n",
       "    </tr>\n",
       "    <tr>\n",
       "      <td>3</td>\n",
       "      <td>0.395127</td>\n",
       "      <td>0.612854</td>\n",
       "      <td>0.109034</td>\n",
       "      <td>01:18</td>\n",
       "    </tr>\n",
       "    <tr>\n",
       "      <td>4</td>\n",
       "      <td>0.380179</td>\n",
       "      <td>0.951630</td>\n",
       "      <td>0.121495</td>\n",
       "      <td>01:18</td>\n",
       "    </tr>\n",
       "    <tr>\n",
       "      <td>5</td>\n",
       "      <td>0.308600</td>\n",
       "      <td>0.834784</td>\n",
       "      <td>0.121495</td>\n",
       "      <td>01:18</td>\n",
       "    </tr>\n",
       "    <tr>\n",
       "      <td>6</td>\n",
       "      <td>0.200103</td>\n",
       "      <td>1.001832</td>\n",
       "      <td>0.099688</td>\n",
       "      <td>01:18</td>\n",
       "    </tr>\n",
       "    <tr>\n",
       "      <td>7</td>\n",
       "      <td>0.124119</td>\n",
       "      <td>0.922781</td>\n",
       "      <td>0.109034</td>\n",
       "      <td>01:18</td>\n",
       "    </tr>\n",
       "    <tr>\n",
       "      <td>8</td>\n",
       "      <td>0.093851</td>\n",
       "      <td>0.835569</td>\n",
       "      <td>0.105919</td>\n",
       "      <td>01:18</td>\n",
       "    </tr>\n",
       "    <tr>\n",
       "      <td>9</td>\n",
       "      <td>0.058497</td>\n",
       "      <td>0.771860</td>\n",
       "      <td>0.087227</td>\n",
       "      <td>01:18</td>\n",
       "    </tr>\n",
       "    <tr>\n",
       "      <td>10</td>\n",
       "      <td>0.042749</td>\n",
       "      <td>0.753396</td>\n",
       "      <td>0.084112</td>\n",
       "      <td>01:18</td>\n",
       "    </tr>\n",
       "    <tr>\n",
       "      <td>11</td>\n",
       "      <td>0.024525</td>\n",
       "      <td>0.752338</td>\n",
       "      <td>0.087227</td>\n",
       "      <td>01:18</td>\n",
       "    </tr>\n",
       "    <tr>\n",
       "      <td>12</td>\n",
       "      <td>0.016961</td>\n",
       "      <td>0.766528</td>\n",
       "      <td>0.080997</td>\n",
       "      <td>01:18</td>\n",
       "    </tr>\n",
       "  </tbody>\n",
       "</table>"
      ],
      "text/plain": [
       "<IPython.core.display.HTML object>"
      ]
     },
     "metadata": {},
     "output_type": "display_data"
    },
    {
     "data": {
      "text/html": [
       "\n",
       "    <div>\n",
       "        <style>\n",
       "            /* Turns off some styling */\n",
       "            progress {\n",
       "                /* gets rid of default border in Firefox and Opera. */\n",
       "                border: none;\n",
       "                /* Needs to be in here for Safari polyfill so background images work as expected. */\n",
       "                background-size: auto;\n",
       "            }\n",
       "            .progress-bar-interrupted, .progress-bar-interrupted::-webkit-progress-bar {\n",
       "                background: #F44336;\n",
       "            }\n",
       "        </style>\n",
       "      <progress value='0' class='' max='13' style='width:300px; height:20px; vertical-align: middle;'></progress>\n",
       "      \n",
       "    </div>\n",
       "    \n"
      ],
      "text/plain": [
       "<IPython.core.display.HTML object>"
      ]
     },
     "metadata": {},
     "output_type": "display_data"
    },
    {
     "data": {
      "text/html": [],
      "text/plain": [
       "<IPython.core.display.HTML object>"
      ]
     },
     "metadata": {},
     "output_type": "display_data"
    }
   ],
   "source": [
    "train('squishvitlargepad', arch, item=Resize((480), method=ResizeMethod.Pad, pad_mode=PadMode.Zeros), batch=aug_transforms(size=224), accum=True)"
   ]
  },
  {
   "cell_type": "code",
   "execution_count": 15,
   "id": "cf6eeb3f-bbbe-4328-8ad0-90ca161e7576",
   "metadata": {},
   "outputs": [],
   "source": [
    "save_pickle('tta_res_convnextPS1_postvit_2.pkl', tta_res)"
   ]
  },
  {
   "cell_type": "code",
   "execution_count": null,
   "id": "e96b342a-fa65-4a70-9acd-c906f72a4b2e",
   "metadata": {},
   "outputs": [],
   "source": [
    "tta_res=load_pickle('tta_res_convnextPS1_postvit_2.pkl')"
   ]
  },
  {
   "cell_type": "code",
   "execution_count": 16,
   "id": "71e1cd64-c6ee-4a29-a8b8-b07e457641d3",
   "metadata": {},
   "outputs": [],
   "source": [
    "arch = 'swinv2_large_window12_192_22k'"
   ]
  },
  {
   "cell_type": "code",
   "execution_count": null,
   "id": "aa70f02b-69be-404f-a95b-7a0800222157",
   "metadata": {},
   "outputs": [
    {
     "name": "stderr",
     "output_type": "stream",
     "text": [
      "/opt/conda/lib/python3.7/site-packages/torch/functional.py:445: UserWarning: torch.meshgrid: in an upcoming release, it will be required to pass the indexing argument. (Triggered internally at  /opt/conda/conda-bld/pytorch_1634272168290/work/aten/src/ATen/native/TensorShape.cpp:2157.)\n",
      "  return _VF.meshgrid(tensors, **kwargs)  # type: ignore[attr-defined]\n",
      "Downloading: \"https://github.com/SwinTransformer/storage/releases/download/v2.0.0/swinv2_large_patch4_window12_192_22k.pth\" to /root/.cache/torch/hub/checkpoints/swinv2_large_patch4_window12_192_22k.pth\n"
     ]
    },
    {
     "data": {
      "text/html": [
       "<table border=\"1\" class=\"dataframe\">\n",
       "  <thead>\n",
       "    <tr style=\"text-align: left;\">\n",
       "      <th>epoch</th>\n",
       "      <th>train_loss</th>\n",
       "      <th>valid_loss</th>\n",
       "      <th>error_rate</th>\n",
       "      <th>time</th>\n",
       "    </tr>\n",
       "  </thead>\n",
       "  <tbody>\n",
       "    <tr>\n",
       "      <td>0</td>\n",
       "      <td>2.071602</td>\n",
       "      <td>1.096686</td>\n",
       "      <td>0.218069</td>\n",
       "      <td>00:42</td>\n",
       "    </tr>\n",
       "  </tbody>\n",
       "</table>"
      ],
      "text/plain": [
       "<IPython.core.display.HTML object>"
      ]
     },
     "metadata": {},
     "output_type": "display_data"
    },
    {
     "data": {
      "text/html": [
       "<table border=\"1\" class=\"dataframe\">\n",
       "  <thead>\n",
       "    <tr style=\"text-align: left;\">\n",
       "      <th>epoch</th>\n",
       "      <th>train_loss</th>\n",
       "      <th>valid_loss</th>\n",
       "      <th>error_rate</th>\n",
       "      <th>time</th>\n",
       "    </tr>\n",
       "  </thead>\n",
       "  <tbody>\n",
       "    <tr>\n",
       "      <td>0</td>\n",
       "      <td>0.738100</td>\n",
       "      <td>0.464062</td>\n",
       "      <td>0.127726</td>\n",
       "      <td>00:53</td>\n",
       "    </tr>\n",
       "    <tr>\n",
       "      <td>1</td>\n",
       "      <td>0.542655</td>\n",
       "      <td>0.464517</td>\n",
       "      <td>0.096573</td>\n",
       "      <td>00:54</td>\n",
       "    </tr>\n",
       "    <tr>\n",
       "      <td>2</td>\n",
       "      <td>0.454339</td>\n",
       "      <td>0.410931</td>\n",
       "      <td>0.096573</td>\n",
       "      <td>00:54</td>\n",
       "    </tr>\n",
       "    <tr>\n",
       "      <td>3</td>\n",
       "      <td>0.399262</td>\n",
       "      <td>0.824033</td>\n",
       "      <td>0.133956</td>\n",
       "      <td>00:54</td>\n",
       "    </tr>\n",
       "    <tr>\n",
       "      <td>4</td>\n",
       "      <td>0.421385</td>\n",
       "      <td>0.453284</td>\n",
       "      <td>0.099688</td>\n",
       "      <td>00:53</td>\n",
       "    </tr>\n",
       "    <tr>\n",
       "      <td>5</td>\n",
       "      <td>0.319590</td>\n",
       "      <td>0.374125</td>\n",
       "      <td>0.065421</td>\n",
       "      <td>00:53</td>\n",
       "    </tr>\n",
       "    <tr>\n",
       "      <td>6</td>\n",
       "      <td>0.262745</td>\n",
       "      <td>0.670323</td>\n",
       "      <td>0.087227</td>\n",
       "      <td>00:53</td>\n",
       "    </tr>\n",
       "    <tr>\n",
       "      <td>7</td>\n",
       "      <td>0.196412</td>\n",
       "      <td>0.463195</td>\n",
       "      <td>0.077882</td>\n",
       "      <td>00:54</td>\n",
       "    </tr>\n",
       "    <tr>\n",
       "      <td>8</td>\n",
       "      <td>0.121346</td>\n",
       "      <td>0.384173</td>\n",
       "      <td>0.056075</td>\n",
       "      <td>00:53</td>\n",
       "    </tr>\n",
       "    <tr>\n",
       "      <td>9</td>\n",
       "      <td>0.083516</td>\n",
       "      <td>0.420984</td>\n",
       "      <td>0.052960</td>\n",
       "      <td>00:54</td>\n",
       "    </tr>\n",
       "    <tr>\n",
       "      <td>10</td>\n",
       "      <td>0.050898</td>\n",
       "      <td>0.342499</td>\n",
       "      <td>0.049844</td>\n",
       "      <td>00:54</td>\n",
       "    </tr>\n",
       "    <tr>\n",
       "      <td>11</td>\n",
       "      <td>0.036186</td>\n",
       "      <td>0.328201</td>\n",
       "      <td>0.056075</td>\n",
       "      <td>00:54</td>\n",
       "    </tr>\n",
       "    <tr>\n",
       "      <td>12</td>\n",
       "      <td>0.028680</td>\n",
       "      <td>0.348099</td>\n",
       "      <td>0.049844</td>\n",
       "      <td>00:54</td>\n",
       "    </tr>\n",
       "  </tbody>\n",
       "</table>"
      ],
      "text/plain": [
       "<IPython.core.display.HTML object>"
      ]
     },
     "metadata": {},
     "output_type": "display_data"
    },
    {
     "data": {
      "text/html": [
       "\n",
       "    <div>\n",
       "        <style>\n",
       "            /* Turns off some styling */\n",
       "            progress {\n",
       "                /* gets rid of default border in Firefox and Opera. */\n",
       "                border: none;\n",
       "                /* Needs to be in here for Safari polyfill so background images work as expected. */\n",
       "                background-size: auto;\n",
       "            }\n",
       "            .progress-bar-interrupted, .progress-bar-interrupted::-webkit-progress-bar {\n",
       "                background: #F44336;\n",
       "            }\n",
       "        </style>\n",
       "      <progress value='0' class='' max='13' style='width:300px; height:20px; vertical-align: middle;'></progress>\n",
       "      \n",
       "    </div>\n",
       "    \n"
      ],
      "text/plain": [
       "<IPython.core.display.HTML object>"
      ]
     },
     "metadata": {},
     "output_type": "display_data"
    },
    {
     "data": {
      "text/html": [
       "\n",
       "    <div>\n",
       "        <style>\n",
       "            /* Turns off some styling */\n",
       "            progress {\n",
       "                /* gets rid of default border in Firefox and Opera. */\n",
       "                border: none;\n",
       "                /* Needs to be in here for Safari polyfill so background images work as expected. */\n",
       "                background-size: auto;\n",
       "            }\n",
       "            .progress-bar-interrupted, .progress-bar-interrupted::-webkit-progress-bar {\n",
       "                background: #F44336;\n",
       "            }\n",
       "        </style>\n",
       "      <progress value='4' class='' max='4' style='width:300px; height:20px; vertical-align: middle;'></progress>\n",
       "      100.00% [4/4 00:43<00:00]\n",
       "    </div>\n",
       "    \n",
       "\n",
       "\n",
       "    <div>\n",
       "        <style>\n",
       "            /* Turns off some styling */\n",
       "            progress {\n",
       "                /* gets rid of default border in Firefox and Opera. */\n",
       "                border: none;\n",
       "                /* Needs to be in here for Safari polyfill so background images work as expected. */\n",
       "                background-size: auto;\n",
       "            }\n",
       "            .progress-bar-interrupted, .progress-bar-interrupted::-webkit-progress-bar {\n",
       "                background: #F44336;\n",
       "            }\n",
       "        </style>\n",
       "      <progress value='0' class='' max='24' style='width:300px; height:20px; vertical-align: middle;'></progress>\n",
       "      0.00% [0/24 00:00<00:00]\n",
       "    </div>\n",
       "    "
      ],
      "text/plain": [
       "<IPython.core.display.HTML object>"
      ]
     },
     "metadata": {},
     "output_type": "display_data"
    }
   ],
   "source": [
    "train('squishswin2192', arch, item=Resize(480, method='squish'), batch=aug_transforms(size=192), accum=True)"
   ]
  },
  {
   "cell_type": "code",
   "execution_count": 25,
   "id": "f4c402c7-8470-4eec-b620-694cda65a865",
   "metadata": {},
   "outputs": [],
   "source": [
    "save_pickle('tta_res_convnextPS1_postswin_2.pkl', tta_res)"
   ]
  },
  {
   "cell_type": "code",
   "execution_count": 41,
   "id": "8188402a-1244-48a5-af28-a95e9af8e7b3",
   "metadata": {},
   "outputs": [],
   "source": [
    "tta_res=load_pickle('tta_res_convnextPS1_postswin_2.pkl')"
   ]
  },
  {
   "cell_type": "code",
   "execution_count": 42,
   "id": "52cf9b4f",
   "metadata": {},
   "outputs": [],
   "source": [
    "tta_prs = first(zip(*tta_res))"
   ]
  },
  {
   "cell_type": "code",
   "execution_count": 43,
   "id": "5b92d2da-8ffa-4666-8f6e-f358d13723df",
   "metadata": {},
   "outputs": [],
   "source": [
    "tta_prs += tta_prs[3:4]"
   ]
  },
  {
   "cell_type": "code",
   "execution_count": 44,
   "id": "c724d038-6982-4808-b6f1-b588274e82d3",
   "metadata": {},
   "outputs": [],
   "source": [
    "tta_prs += tta_prs[3:4]"
   ]
  },
  {
   "cell_type": "code",
   "execution_count": 45,
   "id": "4867b490",
   "metadata": {},
   "outputs": [],
   "source": [
    "t_tta = torch.stack(tta_prs)"
   ]
  },
  {
   "cell_type": "code",
   "execution_count": 46,
   "id": "b8c56269",
   "metadata": {},
   "outputs": [
    {
     "data": {
      "text/plain": [
       "torch.Size([743])"
      ]
     },
     "execution_count": 46,
     "metadata": {},
     "output_type": "execute_result"
    }
   ],
   "source": [
    "avg_pr = t_tta.mean(0)\n",
    "idxs = avg_pr.argmax(dim=1)\n",
    "idxs.shape"
   ]
  },
  {
   "cell_type": "code",
   "execution_count": 47,
   "id": "b09b0a22",
   "metadata": {},
   "outputs": [],
   "source": [
    "# needs work to get the right sub format\n",
    "dls = ImageDataLoaders.from_folder(trn_path, valid_pct=0.2, item_tfms=Resize(224))\n",
    "mapping = dict(enumerate(dls.vocab))\n",
    "ss = pd.read_csv('sample_submission.csv')\n",
    "ss.drop(columns=['Target'], inplace=True)\n",
    "ss.insert(1, \"Target\", idxs.numpy())\n",
    "ss.to_csv('submissions/subm.csv', index=False)"
   ]
  },
  {
   "cell_type": "code",
   "execution_count": 48,
   "id": "4f8e37a9-cf68-4c9d-bd5a-1c87dc86c488",
   "metadata": {},
   "outputs": [
    {
     "data": {
      "text/html": [
       "<div>\n",
       "<style scoped>\n",
       "    .dataframe tbody tr th:only-of-type {\n",
       "        vertical-align: middle;\n",
       "    }\n",
       "\n",
       "    .dataframe tbody tr th {\n",
       "        vertical-align: top;\n",
       "    }\n",
       "\n",
       "    .dataframe thead th {\n",
       "        text-align: right;\n",
       "    }\n",
       "</style>\n",
       "<table border=\"1\" class=\"dataframe\">\n",
       "  <thead>\n",
       "    <tr style=\"text-align: right;\">\n",
       "      <th></th>\n",
       "      <th>SOPInstanceUID</th>\n",
       "      <th>Target</th>\n",
       "    </tr>\n",
       "  </thead>\n",
       "  <tbody>\n",
       "    <tr>\n",
       "      <th>0</th>\n",
       "      <td>1.2.826.0.1.3680043.8.498.10001001190452685542754353271306894106</td>\n",
       "      <td>9</td>\n",
       "    </tr>\n",
       "    <tr>\n",
       "      <th>1</th>\n",
       "      <td>1.2.826.0.1.3680043.8.498.10022667601042710442884728915610557590</td>\n",
       "      <td>3</td>\n",
       "    </tr>\n",
       "    <tr>\n",
       "      <th>2</th>\n",
       "      <td>1.2.826.0.1.3680043.8.498.10024395388921105474336784272390605225</td>\n",
       "      <td>9</td>\n",
       "    </tr>\n",
       "    <tr>\n",
       "      <th>3</th>\n",
       "      <td>1.2.826.0.1.3680043.8.498.10026689165626095651568657562992631805</td>\n",
       "      <td>3</td>\n",
       "    </tr>\n",
       "    <tr>\n",
       "      <th>4</th>\n",
       "      <td>1.2.826.0.1.3680043.8.498.10035936364561920980924160549027696414</td>\n",
       "      <td>3</td>\n",
       "    </tr>\n",
       "    <tr>\n",
       "      <th>...</th>\n",
       "      <td>...</td>\n",
       "      <td>...</td>\n",
       "    </tr>\n",
       "    <tr>\n",
       "      <th>738</th>\n",
       "      <td>1.2.826.0.1.3680043.8.498.98950979295424909746555980174715994054</td>\n",
       "      <td>3</td>\n",
       "    </tr>\n",
       "    <tr>\n",
       "      <th>739</th>\n",
       "      <td>1.2.826.0.1.3680043.8.498.99120415799121180043999929775380253296</td>\n",
       "      <td>3</td>\n",
       "    </tr>\n",
       "    <tr>\n",
       "      <th>740</th>\n",
       "      <td>1.2.826.0.1.3680043.8.498.99132008951330408682785705454375383148</td>\n",
       "      <td>3</td>\n",
       "    </tr>\n",
       "    <tr>\n",
       "      <th>741</th>\n",
       "      <td>1.2.826.0.1.3680043.8.498.99611256581875030709909119881605604054</td>\n",
       "      <td>21</td>\n",
       "    </tr>\n",
       "    <tr>\n",
       "      <th>742</th>\n",
       "      <td>1.2.826.0.1.3680043.8.498.99815558936794860022202622141239058680</td>\n",
       "      <td>3</td>\n",
       "    </tr>\n",
       "  </tbody>\n",
       "</table>\n",
       "<p>743 rows × 2 columns</p>\n",
       "</div>"
      ],
      "text/plain": [
       "                                                       SOPInstanceUID  Target\n",
       "0    1.2.826.0.1.3680043.8.498.10001001190452685542754353271306894106       9\n",
       "1    1.2.826.0.1.3680043.8.498.10022667601042710442884728915610557590       3\n",
       "2    1.2.826.0.1.3680043.8.498.10024395388921105474336784272390605225       9\n",
       "3    1.2.826.0.1.3680043.8.498.10026689165626095651568657562992631805       3\n",
       "4    1.2.826.0.1.3680043.8.498.10035936364561920980924160549027696414       3\n",
       "..                                                                ...     ...\n",
       "738  1.2.826.0.1.3680043.8.498.98950979295424909746555980174715994054       3\n",
       "739  1.2.826.0.1.3680043.8.498.99120415799121180043999929775380253296       3\n",
       "740  1.2.826.0.1.3680043.8.498.99132008951330408682785705454375383148       3\n",
       "741  1.2.826.0.1.3680043.8.498.99611256581875030709909119881605604054      21\n",
       "742  1.2.826.0.1.3680043.8.498.99815558936794860022202622141239058680       3\n",
       "\n",
       "[743 rows x 2 columns]"
      ]
     },
     "execution_count": 48,
     "metadata": {},
     "output_type": "execute_result"
    }
   ],
   "source": [
    "ss"
   ]
  },
  {
   "cell_type": "code",
   "execution_count": 43,
   "id": "8a489641-06b3-4627-8fd5-84f63e151ce7",
   "metadata": {},
   "outputs": [],
   "source": []
  },
  {
   "cell_type": "code",
   "execution_count": 51,
   "id": "a2ffceb1",
   "metadata": {},
   "outputs": [
    {
     "data": {
      "text/html": [
       "<div>\n",
       "<style scoped>\n",
       "    .dataframe tbody tr th:only-of-type {\n",
       "        vertical-align: middle;\n",
       "    }\n",
       "\n",
       "    .dataframe tbody tr th {\n",
       "        vertical-align: top;\n",
       "    }\n",
       "\n",
       "    .dataframe thead th {\n",
       "        text-align: right;\n",
       "    }\n",
       "</style>\n",
       "<table border=\"1\" class=\"dataframe\">\n",
       "  <thead>\n",
       "    <tr style=\"text-align: right;\">\n",
       "      <th></th>\n",
       "      <th>SOPInstanceUID</th>\n",
       "      <th>NewTarget</th>\n",
       "    </tr>\n",
       "  </thead>\n",
       "  <tbody>\n",
       "    <tr>\n",
       "      <th>0</th>\n",
       "      <td>1.2.826.0.1.3680043.8.498.10001001190452685542754353271306894106</td>\n",
       "      <td>9</td>\n",
       "    </tr>\n",
       "    <tr>\n",
       "      <th>1</th>\n",
       "      <td>1.2.826.0.1.3680043.8.498.10022667601042710442884728915610557590</td>\n",
       "      <td>3</td>\n",
       "    </tr>\n",
       "    <tr>\n",
       "      <th>2</th>\n",
       "      <td>1.2.826.0.1.3680043.8.498.10024395388921105474336784272390605225</td>\n",
       "      <td>9</td>\n",
       "    </tr>\n",
       "    <tr>\n",
       "      <th>3</th>\n",
       "      <td>1.2.826.0.1.3680043.8.498.10026689165626095651568657562992631805</td>\n",
       "      <td>3</td>\n",
       "    </tr>\n",
       "    <tr>\n",
       "      <th>4</th>\n",
       "      <td>1.2.826.0.1.3680043.8.498.10035936364561920980924160549027696414</td>\n",
       "      <td>3</td>\n",
       "    </tr>\n",
       "    <tr>\n",
       "      <th>...</th>\n",
       "      <td>...</td>\n",
       "      <td>...</td>\n",
       "    </tr>\n",
       "    <tr>\n",
       "      <th>738</th>\n",
       "      <td>1.2.826.0.1.3680043.8.498.98950979295424909746555980174715994054</td>\n",
       "      <td>3</td>\n",
       "    </tr>\n",
       "    <tr>\n",
       "      <th>739</th>\n",
       "      <td>1.2.826.0.1.3680043.8.498.99120415799121180043999929775380253296</td>\n",
       "      <td>3</td>\n",
       "    </tr>\n",
       "    <tr>\n",
       "      <th>740</th>\n",
       "      <td>1.2.826.0.1.3680043.8.498.99132008951330408682785705454375383148</td>\n",
       "      <td>3</td>\n",
       "    </tr>\n",
       "    <tr>\n",
       "      <th>741</th>\n",
       "      <td>1.2.826.0.1.3680043.8.498.99611256581875030709909119881605604054</td>\n",
       "      <td>21</td>\n",
       "    </tr>\n",
       "    <tr>\n",
       "      <th>742</th>\n",
       "      <td>1.2.826.0.1.3680043.8.498.99815558936794860022202622141239058680</td>\n",
       "      <td>3</td>\n",
       "    </tr>\n",
       "  </tbody>\n",
       "</table>\n",
       "<p>743 rows × 2 columns</p>\n",
       "</div>"
      ],
      "text/plain": [
       "                                                       SOPInstanceUID  \\\n",
       "0    1.2.826.0.1.3680043.8.498.10001001190452685542754353271306894106   \n",
       "1    1.2.826.0.1.3680043.8.498.10022667601042710442884728915610557590   \n",
       "2    1.2.826.0.1.3680043.8.498.10024395388921105474336784272390605225   \n",
       "3    1.2.826.0.1.3680043.8.498.10026689165626095651568657562992631805   \n",
       "4    1.2.826.0.1.3680043.8.498.10035936364561920980924160549027696414   \n",
       "..                                                                ...   \n",
       "738  1.2.826.0.1.3680043.8.498.98950979295424909746555980174715994054   \n",
       "739  1.2.826.0.1.3680043.8.498.99120415799121180043999929775380253296   \n",
       "740  1.2.826.0.1.3680043.8.498.99132008951330408682785705454375383148   \n",
       "741  1.2.826.0.1.3680043.8.498.99611256581875030709909119881605604054   \n",
       "742  1.2.826.0.1.3680043.8.498.99815558936794860022202622141239058680   \n",
       "\n",
       "     NewTarget  \n",
       "0            9  \n",
       "1            3  \n",
       "2            9  \n",
       "3            3  \n",
       "4            3  \n",
       "..         ...  \n",
       "738          3  \n",
       "739          3  \n",
       "740          3  \n",
       "741         21  \n",
       "742          3  \n",
       "\n",
       "[743 rows x 2 columns]"
      ]
     },
     "execution_count": 51,
     "metadata": {},
     "output_type": "execute_result"
    }
   ],
   "source": []
  },
  {
   "cell_type": "code",
   "execution_count": 49,
   "id": "71ce838f",
   "metadata": {},
   "outputs": [
    {
     "name": "stdout",
     "output_type": "stream",
     "text": [
      "100%|███████████████████████████████████████| 48.8k/48.8k [00:00<00:00, 124kB/s]\n",
      "Successfully submitted to UNIFESP X-ray Body Part Classifier Competition"
     ]
    }
   ],
   "source": [
    "!kaggle competitions submit -c unifesp-x-ray-body-part-classifier -f submissions/subm.csv -m \"4nd Try Triple +2swinv2\""
   ]
  },
  {
   "cell_type": "code",
   "execution_count": null,
   "id": "e86d8683-1839-45ce-96b3-6f6c08c46aca",
   "metadata": {},
   "outputs": [],
   "source": []
  }
 ],
 "metadata": {
  "kernelspec": {
   "display_name": "Python 3 (ipykernel)",
   "language": "python",
   "name": "python3"
  },
  "language_info": {
   "codemirror_mode": {
    "name": "ipython",
    "version": 3
   },
   "file_extension": ".py",
   "mimetype": "text/x-python",
   "name": "python",
   "nbconvert_exporter": "python",
   "pygments_lexer": "ipython3",
   "version": "3.7.11"
  }
 },
 "nbformat": 4,
 "nbformat_minor": 5
}
