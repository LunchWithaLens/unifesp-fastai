{
 "cells": [
  {
   "cell_type": "markdown",
   "id": "3b5658ab",
   "metadata": {},
   "source": [
    "# Initial look at the unifesp Kaggle data"
   ]
  },
  {
   "cell_type": "markdown",
   "id": "6a2d249e",
   "metadata": {},
   "source": [
    "Abdomen = 0\n",
    "Ankle = 1\n",
    "Cervical Spine = 2\n",
    "Chest = 3\n",
    "Clavicles = 4\n",
    "Elbow = 5\n",
    "Feet = 6\n",
    "Finger = 7\n",
    "Forearm = 8\n",
    "Hand = 9\n",
    "Hip = 10\n",
    "Knee = 11\n",
    "Lower Leg = 12\n",
    "Lumbar Spine = 13\n",
    "Others = 14\n",
    "Pelvis = 15\n",
    "Shoulder = 16\n",
    "Sinus = 17\n",
    "Skull = 18\n",
    "Thigh = 19\n",
    "Thoracic Spine = 20\n",
    "Wrist = 21"
   ]
  },
  {
   "cell_type": "code",
   "execution_count": 2,
   "id": "b7eb9d9e",
   "metadata": {},
   "outputs": [
    {
     "name": "stdout",
     "output_type": "stream",
     "text": [
      "The operation couldn’t be completed. Unable to locate a Java Runtime.\r\n",
      "Please visit http://www.java.com for information on installing Java.\r\n",
      "\r\n"
     ]
    }
   ],
   "source": [
    "#%%bash\n",
    "\n",
    "#exec bash\n",
    "!rm -rf data\n",
    "!mkdir data\n",
    "!apt install unzip"
   ]
  },
  {
   "cell_type": "code",
   "execution_count": 3,
   "id": "94c73b3a",
   "metadata": {},
   "outputs": [
    {
     "name": "stdout",
     "output_type": "stream",
     "text": [
      "Requirement already satisfied: timm==0.6.2dev0 in /Users/bsmi067/mambaforge/lib/python3.9/site-packages (0.6.2.dev0)\n",
      "Requirement already satisfied: torch>=1.4 in /Users/bsmi067/mambaforge/lib/python3.9/site-packages (from timm==0.6.2dev0) (1.11.0.post2)\n",
      "Requirement already satisfied: torchvision in /Users/bsmi067/mambaforge/lib/python3.9/site-packages (from timm==0.6.2dev0) (0.12.0)\n",
      "Requirement already satisfied: typing-extensions in /Users/bsmi067/mambaforge/lib/python3.9/site-packages (from torch>=1.4->timm==0.6.2dev0) (4.2.0)\n",
      "Requirement already satisfied: numpy in /Users/bsmi067/mambaforge/lib/python3.9/site-packages (from torchvision->timm==0.6.2dev0) (1.22.4)\n",
      "Requirement already satisfied: pillow!=8.3.*,>=5.3.0 in /Users/bsmi067/mambaforge/lib/python3.9/site-packages (from torchvision->timm==0.6.2dev0) (9.1.1)\n",
      "Requirement already satisfied: requests in /Users/bsmi067/mambaforge/lib/python3.9/site-packages (from torchvision->timm==0.6.2dev0) (2.27.1)\n",
      "Requirement already satisfied: urllib3<1.27,>=1.21.1 in /Users/bsmi067/mambaforge/lib/python3.9/site-packages (from requests->torchvision->timm==0.6.2dev0) (1.26.9)\n",
      "Requirement already satisfied: certifi>=2017.4.17 in /Users/bsmi067/mambaforge/lib/python3.9/site-packages (from requests->torchvision->timm==0.6.2dev0) (2022.6.15)\n",
      "Requirement already satisfied: charset-normalizer~=2.0.0 in /Users/bsmi067/mambaforge/lib/python3.9/site-packages (from requests->torchvision->timm==0.6.2dev0) (2.0.12)\n",
      "Requirement already satisfied: idna<4,>=2.5 in /Users/bsmi067/mambaforge/lib/python3.9/site-packages (from requests->torchvision->timm==0.6.2dev0) (3.3)\n",
      "Note: you may need to restart the kernel to use updated packages.\n"
     ]
    }
   ],
   "source": [
    "pip install -U timm==0.6.2dev0"
   ]
  },
  {
   "cell_type": "code",
   "execution_count": 4,
   "id": "998a84b8",
   "metadata": {},
   "outputs": [
    {
     "name": "stdout",
     "output_type": "stream",
     "text": [
      "unifesp-x-ray-body-part-classifier.zip: Skipping, found more recently modified local copy (use --force to force download)\r\n"
     ]
    }
   ],
   "source": [
    "!cd data && kaggle competitions download -c unifesp-x-ray-body-part-classifier && unzip -q unifesp-x-ray-body-part-classifier"
   ]
  },
  {
   "cell_type": "code",
   "execution_count": 1,
   "id": "2be40ddd",
   "metadata": {},
   "outputs": [],
   "source": [
    "import timm"
   ]
  },
  {
   "cell_type": "code",
   "execution_count": 2,
   "id": "4fa36b17",
   "metadata": {},
   "outputs": [
    {
     "name": "stdout",
     "output_type": "stream",
     "text": [
      "archive.zip                             test_df.csv\r\n",
      "\u001b[34mcomp_orig\u001b[m\u001b[m/                              train2_df.csv\r\n",
      "image_png.png                           train_df.csv\r\n",
      "\u001b[34mimages\u001b[m\u001b[m/                                 unifesp-x-ray-body-part-classifier.zip\r\n",
      "sample_submission.csv\r\n"
     ]
    }
   ],
   "source": [
    "ls data/"
   ]
  },
  {
   "cell_type": "code",
   "execution_count": 3,
   "id": "59e93bc6",
   "metadata": {},
   "outputs": [
    {
     "name": "stdout",
     "output_type": "stream",
     "text": [
      "1.2.826.0.1.3680043.8.498.10025629581362719970278200333618114258-c.png\r\n",
      "1.2.826.0.1.3680043.8.498.10036150326276641158002573300029848125-c.png\r\n",
      "1.2.826.0.1.3680043.8.498.10038426859954986240523417641213777162-c.png\r\n",
      "1.2.826.0.1.3680043.8.498.10050991192143676483577217922037244257-c.png\r\n",
      "1.2.826.0.1.3680043.8.498.10053309524595490852815579052225336016-c.png\r\n",
      "1.2.826.0.1.3680043.8.498.10053755320637729867508668285241208441-c.png\r\n",
      "1.2.826.0.1.3680043.8.498.10062189329714053601496804394945741428-c.png\r\n",
      "1.2.826.0.1.3680043.8.498.10065930002825553435161793347987832017-c.png\r\n",
      "1.2.826.0.1.3680043.8.498.10072001800484199846734151421006166369-c.png\r\n",
      "1.2.826.0.1.3680043.8.498.10077219503857952412254959562456136784-c.png\r\n"
     ]
    }
   ],
   "source": [
    "ls data/images/train | head"
   ]
  },
  {
   "cell_type": "code",
   "execution_count": 4,
   "id": "bdcf692d",
   "metadata": {},
   "outputs": [
    {
     "name": "stdout",
     "output_type": "stream",
     "text": [
      "1.2.826.0.1.3680043.8.498.10001001190452685542754353271306894106-c.png\r\n",
      "1.2.826.0.1.3680043.8.498.10022667601042710442884728915610557590-c.png\r\n",
      "1.2.826.0.1.3680043.8.498.10024395388921105474336784272390605225-c.png\r\n",
      "1.2.826.0.1.3680043.8.498.10026689165626095651568657562992631805-c.png\r\n",
      "1.2.826.0.1.3680043.8.498.10035936364561920980924160549027696414-c.png\r\n",
      "1.2.826.0.1.3680043.8.498.10048151016194111821946577128316853508-c.png\r\n",
      "1.2.826.0.1.3680043.8.498.10050288866897098549171724525519515056-c.png\r\n",
      "1.2.826.0.1.3680043.8.498.10058159876923426607443905471214229386-c.png\r\n",
      "1.2.826.0.1.3680043.8.498.10080393723513249121106839017290899983-c.png\r\n",
      "1.2.826.0.1.3680043.8.498.10111879479980116660072960146970217082-c.png\r\n"
     ]
    }
   ],
   "source": [
    "ls data/images/test | head"
   ]
  },
  {
   "cell_type": "code",
   "execution_count": 5,
   "id": "2305d3dc",
   "metadata": {},
   "outputs": [
    {
     "data": {
      "text/html": [
       "<div>\n",
       "<style scoped>\n",
       "    .dataframe tbody tr th:only-of-type {\n",
       "        vertical-align: middle;\n",
       "    }\n",
       "\n",
       "    .dataframe tbody tr th {\n",
       "        vertical-align: top;\n",
       "    }\n",
       "\n",
       "    .dataframe thead th {\n",
       "        text-align: right;\n",
       "    }\n",
       "</style>\n",
       "<table border=\"1\" class=\"dataframe\">\n",
       "  <thead>\n",
       "    <tr style=\"text-align: right;\">\n",
       "      <th></th>\n",
       "      <th>SOPInstanceUID</th>\n",
       "      <th>Target</th>\n",
       "    </tr>\n",
       "  </thead>\n",
       "  <tbody>\n",
       "    <tr>\n",
       "      <th>0</th>\n",
       "      <td>1.2.826.0.1.3680043.8.498.10001001190452685542...</td>\n",
       "      <td>0 1 2 3 4 5 6 7 8 9 10 11 12 13 14 15 16 17 18...</td>\n",
       "    </tr>\n",
       "    <tr>\n",
       "      <th>1</th>\n",
       "      <td>1.2.826.0.1.3680043.8.498.10022667601042710442...</td>\n",
       "      <td>0 1 2 3 4 5 6 7 8 9 10 11 12 13 14 15 16 17 18...</td>\n",
       "    </tr>\n",
       "    <tr>\n",
       "      <th>2</th>\n",
       "      <td>1.2.826.0.1.3680043.8.498.10024395388921105474...</td>\n",
       "      <td>0 1 2 3 4 5 6 7 8 9 10 11 12 13 14 15 16 17 18...</td>\n",
       "    </tr>\n",
       "    <tr>\n",
       "      <th>3</th>\n",
       "      <td>1.2.826.0.1.3680043.8.498.10026689165626095651...</td>\n",
       "      <td>0 1 2 3 4 5 6 7 8 9 10 11 12 13 14 15 16 17 18...</td>\n",
       "    </tr>\n",
       "    <tr>\n",
       "      <th>4</th>\n",
       "      <td>1.2.826.0.1.3680043.8.498.10035936364561920980...</td>\n",
       "      <td>0 1 2 3 4 5 6 7 8 9 10 11 12 13 14 15 16 17 18...</td>\n",
       "    </tr>\n",
       "  </tbody>\n",
       "</table>\n",
       "</div>"
      ],
      "text/plain": [
       "                                      SOPInstanceUID  \\\n",
       "0  1.2.826.0.1.3680043.8.498.10001001190452685542...   \n",
       "1  1.2.826.0.1.3680043.8.498.10022667601042710442...   \n",
       "2  1.2.826.0.1.3680043.8.498.10024395388921105474...   \n",
       "3  1.2.826.0.1.3680043.8.498.10026689165626095651...   \n",
       "4  1.2.826.0.1.3680043.8.498.10035936364561920980...   \n",
       "\n",
       "                                              Target  \n",
       "0  0 1 2 3 4 5 6 7 8 9 10 11 12 13 14 15 16 17 18...  \n",
       "1  0 1 2 3 4 5 6 7 8 9 10 11 12 13 14 15 16 17 18...  \n",
       "2  0 1 2 3 4 5 6 7 8 9 10 11 12 13 14 15 16 17 18...  \n",
       "3  0 1 2 3 4 5 6 7 8 9 10 11 12 13 14 15 16 17 18...  \n",
       "4  0 1 2 3 4 5 6 7 8 9 10 11 12 13 14 15 16 17 18...  "
      ]
     },
     "execution_count": 5,
     "metadata": {},
     "output_type": "execute_result"
    }
   ],
   "source": [
    "import pandas as pd\n",
    "\n",
    "sample_sub = pd.read_csv('data/sample_submission.csv')\n",
    "sample_sub.head()"
   ]
  },
  {
   "cell_type": "code",
   "execution_count": 6,
   "id": "aa5fd91a",
   "metadata": {},
   "outputs": [],
   "source": [
    "df = pd.read_csv('data/train2_df.csv')"
   ]
  },
  {
   "cell_type": "markdown",
   "id": "8f2ba67a",
   "metadata": {},
   "source": [
    "Split the 2nd column on space, so the categories have their own columns.  Then just do single classification first."
   ]
  },
  {
   "cell_type": "code",
   "execution_count": 7,
   "id": "09ad8b64",
   "metadata": {},
   "outputs": [],
   "source": [
    "#df.insert(2, \"Target2\",\"\",True)\n",
    "#df.insert(3, \"Target3\",\"\",True)\n",
    "#df.insert(4, \"Target4\",\"\",True)\n",
    "#df.insert(5, \"Target5\",\"\",True)\n",
    "#df[['Target1','Target2','Target3','Target4','Target5']] = df['Target'].str.split(' ', expand=True)"
   ]
  },
  {
   "cell_type": "code",
   "execution_count": 8,
   "id": "21b72419",
   "metadata": {},
   "outputs": [],
   "source": [
    "from fastai.vision.all import *\n",
    "from fastcore.parallel import *"
   ]
  },
  {
   "cell_type": "code",
   "execution_count": 9,
   "id": "cf929917",
   "metadata": {},
   "outputs": [],
   "source": [
    "path = Path('data')\n",
    "trn_path= path/'train'\n",
    "tst_files = get_image_files(path/'test').sorted()"
   ]
  },
  {
   "cell_type": "code",
   "execution_count": 10,
   "id": "227adc3e",
   "metadata": {},
   "outputs": [],
   "source": [
    "ImageDataLoaders.from_csv??"
   ]
  },
  {
   "cell_type": "code",
   "execution_count": 11,
   "id": "f29cb855",
   "metadata": {},
   "outputs": [],
   "source": [
    "tta_res = []"
   ]
  },
  {
   "cell_type": "code",
   "execution_count": 12,
   "id": "92bcf511",
   "metadata": {},
   "outputs": [],
   "source": [
    "def train(desc, arch, item, batch, accum=False):\n",
    "    kwargs = {'bs':32} if accum else{}\n",
    "    dls = ImageDataLoaders.from_csv(path, csv_fname='train2_df.csv', fn_col=-1, label_col=1, valid_pct=0.2, item_tfms=item, batch_tfms=batch, **kwargs)\n",
    "    cbs = GradientAccumulation(2) if accum else []\n",
    "    learn = vision_learner(dls, arch, metrics=error_rate, cbs=cbs).to_fp16()\n",
    "    learn.fine_tune(3, 0.01)\n",
    "    tta_res.append(learn.tta(dl=dls.test_dl(tst_files)))\n",
    "    learn.export(f'{arch}_{desc}')"
   ]
  },
  {
   "cell_type": "code",
   "execution_count": 13,
   "id": "ea741391",
   "metadata": {},
   "outputs": [
    {
     "data": {
      "text/plain": [
       "['convnext_tiny',\n",
       " 'convnext_tiny_384_in22ft1k',\n",
       " 'convnext_tiny_hnf',\n",
       " 'convnext_tiny_hnfd',\n",
       " 'convnext_tiny_in22ft1k',\n",
       " 'convnext_tiny_in22k']"
      ]
     },
     "execution_count": 13,
     "metadata": {},
     "output_type": "execute_result"
    }
   ],
   "source": [
    "timm.list_models(\"convnext_tiny*\")"
   ]
  },
  {
   "cell_type": "code",
   "execution_count": 14,
   "id": "4bdeace2",
   "metadata": {},
   "outputs": [],
   "source": [
    "arch = (\"convnext_tiny_in22k\")"
   ]
  },
  {
   "cell_type": "code",
   "execution_count": 15,
   "id": "8c7e94c4",
   "metadata": {},
   "outputs": [
    {
     "name": "stderr",
     "output_type": "stream",
     "text": [
      "/Users/bsmi067/mambaforge/lib/python3.9/site-packages/torch/autocast_mode.py:162: UserWarning: User provided device_type of 'cuda', but CUDA is not available. Disabling\n",
      "  warnings.warn('User provided device_type of \\'cuda\\', but CUDA is not available. Disabling')\n",
      "/Users/bsmi067/mambaforge/lib/python3.9/site-packages/torch/cuda/amp/grad_scaler.py:115: UserWarning: torch.cuda.amp.GradScaler is enabled, but CUDA is not available.  Disabling.\n",
      "  warnings.warn(\"torch.cuda.amp.GradScaler is enabled, but CUDA is not available.  Disabling.\")\n"
     ]
    },
    {
     "data": {
      "text/html": [
       "\n",
       "<style>\n",
       "    /* Turns off some styling */\n",
       "    progress {\n",
       "        /* gets rid of default border in Firefox and Opera. */\n",
       "        border: none;\n",
       "        /* Needs to be in here for Safari polyfill so background images work as expected. */\n",
       "        background-size: auto;\n",
       "    }\n",
       "    .progress-bar-interrupted, .progress-bar-interrupted::-webkit-progress-bar {\n",
       "        background: #F44336;\n",
       "    }\n",
       "</style>\n"
      ],
      "text/plain": [
       "<IPython.core.display.HTML object>"
      ]
     },
     "metadata": {},
     "output_type": "display_data"
    },
    {
     "data": {
      "text/html": [
       "<table border=\"1\" class=\"dataframe\">\n",
       "  <thead>\n",
       "    <tr style=\"text-align: left;\">\n",
       "      <th>epoch</th>\n",
       "      <th>train_loss</th>\n",
       "      <th>valid_loss</th>\n",
       "      <th>error_rate</th>\n",
       "      <th>time</th>\n",
       "    </tr>\n",
       "  </thead>\n",
       "  <tbody>\n",
       "    <tr>\n",
       "      <td>0</td>\n",
       "      <td>1.886022</td>\n",
       "      <td>0.612007</td>\n",
       "      <td>0.138329</td>\n",
       "      <td>07:50</td>\n",
       "    </tr>\n",
       "  </tbody>\n",
       "</table>"
      ],
      "text/plain": [
       "<IPython.core.display.HTML object>"
      ]
     },
     "metadata": {},
     "output_type": "display_data"
    },
    {
     "data": {
      "text/html": [
       "\n",
       "<style>\n",
       "    /* Turns off some styling */\n",
       "    progress {\n",
       "        /* gets rid of default border in Firefox and Opera. */\n",
       "        border: none;\n",
       "        /* Needs to be in here for Safari polyfill so background images work as expected. */\n",
       "        background-size: auto;\n",
       "    }\n",
       "    .progress-bar-interrupted, .progress-bar-interrupted::-webkit-progress-bar {\n",
       "        background: #F44336;\n",
       "    }\n",
       "</style>\n"
      ],
      "text/plain": [
       "<IPython.core.display.HTML object>"
      ]
     },
     "metadata": {},
     "output_type": "display_data"
    },
    {
     "data": {
      "text/html": [
       "<table border=\"1\" class=\"dataframe\">\n",
       "  <thead>\n",
       "    <tr style=\"text-align: left;\">\n",
       "      <th>epoch</th>\n",
       "      <th>train_loss</th>\n",
       "      <th>valid_loss</th>\n",
       "      <th>error_rate</th>\n",
       "      <th>time</th>\n",
       "    </tr>\n",
       "  </thead>\n",
       "  <tbody>\n",
       "    <tr>\n",
       "      <td>0</td>\n",
       "      <td>0.603974</td>\n",
       "      <td>0.440341</td>\n",
       "      <td>0.086455</td>\n",
       "      <td>12:11</td>\n",
       "    </tr>\n",
       "    <tr>\n",
       "      <td>1</td>\n",
       "      <td>0.534684</td>\n",
       "      <td>0.420477</td>\n",
       "      <td>0.100865</td>\n",
       "      <td>14:14</td>\n",
       "    </tr>\n",
       "    <tr>\n",
       "      <td>2</td>\n",
       "      <td>0.416039</td>\n",
       "      <td>0.348303</td>\n",
       "      <td>0.080692</td>\n",
       "      <td>12:18</td>\n",
       "    </tr>\n",
       "  </tbody>\n",
       "</table>"
      ],
      "text/plain": [
       "<IPython.core.display.HTML object>"
      ]
     },
     "metadata": {},
     "output_type": "display_data"
    },
    {
     "ename": "IndexError",
     "evalue": "list index out of range",
     "output_type": "error",
     "traceback": [
      "\u001b[0;31m---------------------------------------------------------------------------\u001b[0m",
      "\u001b[0;31mIndexError\u001b[0m                                Traceback (most recent call last)",
      "Input \u001b[0;32mIn [15]\u001b[0m, in \u001b[0;36m<cell line: 1>\u001b[0;34m()\u001b[0m\n\u001b[0;32m----> 1\u001b[0m \u001b[43mtrain\u001b[49m\u001b[43m(\u001b[49m\u001b[38;5;124;43m'\u001b[39;49m\u001b[38;5;124;43mConvnext\u001b[39;49m\u001b[38;5;124;43m'\u001b[39;49m\u001b[43m,\u001b[49m\u001b[43m \u001b[49m\u001b[43march\u001b[49m\u001b[43m,\u001b[49m\u001b[43m \u001b[49m\u001b[43mitem\u001b[49m\u001b[38;5;241;43m=\u001b[39;49m\u001b[43mResize\u001b[49m\u001b[43m(\u001b[49m\u001b[38;5;241;43m240\u001b[39;49m\u001b[43m,\u001b[49m\u001b[43m \u001b[49m\u001b[43mmethod\u001b[49m\u001b[38;5;241;43m=\u001b[39;49m\u001b[38;5;124;43m'\u001b[39;49m\u001b[38;5;124;43msquish\u001b[39;49m\u001b[38;5;124;43m'\u001b[39;49m\u001b[43m)\u001b[49m\u001b[43m,\u001b[49m\u001b[43m \u001b[49m\u001b[43mbatch\u001b[49m\u001b[38;5;241;43m=\u001b[39;49m\u001b[43maug_transforms\u001b[49m\u001b[43m(\u001b[49m\u001b[43msize\u001b[49m\u001b[38;5;241;43m=\u001b[39;49m\u001b[38;5;241;43m224\u001b[39;49m\u001b[43m)\u001b[49m\u001b[43m,\u001b[49m\u001b[43m \u001b[49m\u001b[43maccum\u001b[49m\u001b[38;5;241;43m=\u001b[39;49m\u001b[38;5;28;43;01mFalse\u001b[39;49;00m\u001b[43m)\u001b[49m\n",
      "Input \u001b[0;32mIn [12]\u001b[0m, in \u001b[0;36mtrain\u001b[0;34m(desc, arch, item, batch, accum)\u001b[0m\n\u001b[1;32m      5\u001b[0m learn \u001b[38;5;241m=\u001b[39m vision_learner(dls, arch, metrics\u001b[38;5;241m=\u001b[39merror_rate, cbs\u001b[38;5;241m=\u001b[39mcbs)\u001b[38;5;241m.\u001b[39mto_fp16()\n\u001b[1;32m      6\u001b[0m learn\u001b[38;5;241m.\u001b[39mfine_tune(\u001b[38;5;241m3\u001b[39m, \u001b[38;5;241m0.01\u001b[39m)\n\u001b[0;32m----> 7\u001b[0m tta_res\u001b[38;5;241m.\u001b[39mappend(learn\u001b[38;5;241m.\u001b[39mtta(dl\u001b[38;5;241m=\u001b[39m\u001b[43mdls\u001b[49m\u001b[38;5;241;43m.\u001b[39;49m\u001b[43mtest_dl\u001b[49m\u001b[43m(\u001b[49m\u001b[43mtst_files\u001b[49m\u001b[43m)\u001b[49m))\n\u001b[1;32m      8\u001b[0m learn\u001b[38;5;241m.\u001b[39mexport(\u001b[38;5;124mf\u001b[39m\u001b[38;5;124m'\u001b[39m\u001b[38;5;132;01m{\u001b[39;00march\u001b[38;5;132;01m}\u001b[39;00m\u001b[38;5;124m_\u001b[39m\u001b[38;5;132;01m{\u001b[39;00mdesc\u001b[38;5;132;01m}\u001b[39;00m\u001b[38;5;124m'\u001b[39m)\n",
      "File \u001b[0;32m~/mambaforge/lib/python3.9/site-packages/fastai/data/core.py:405\u001b[0m, in \u001b[0;36mtest_dl\u001b[0;34m(self, test_items, rm_type_tfms, with_labels, **kwargs)\u001b[0m\n\u001b[1;32m    401\u001b[0m \u001b[38;5;129m@patch\u001b[39m\n\u001b[1;32m    402\u001b[0m \u001b[38;5;129m@delegates\u001b[39m(TfmdDL\u001b[38;5;241m.\u001b[39m\u001b[38;5;21m__init__\u001b[39m)\n\u001b[1;32m    403\u001b[0m \u001b[38;5;28;01mdef\u001b[39;00m \u001b[38;5;21mtest_dl\u001b[39m(\u001b[38;5;28mself\u001b[39m:DataLoaders, test_items, rm_type_tfms\u001b[38;5;241m=\u001b[39m\u001b[38;5;28;01mNone\u001b[39;00m, with_labels\u001b[38;5;241m=\u001b[39m\u001b[38;5;28;01mFalse\u001b[39;00m, \u001b[38;5;241m*\u001b[39m\u001b[38;5;241m*\u001b[39mkwargs):\n\u001b[1;32m    404\u001b[0m     \u001b[38;5;124m\"\u001b[39m\u001b[38;5;124mCreate a test dataloader from `test_items` using validation transforms of `dls`\u001b[39m\u001b[38;5;124m\"\u001b[39m\n\u001b[0;32m--> 405\u001b[0m     test_ds \u001b[38;5;241m=\u001b[39m \u001b[43mtest_set\u001b[49m\u001b[43m(\u001b[49m\u001b[38;5;28;43mself\u001b[39;49m\u001b[38;5;241;43m.\u001b[39;49m\u001b[43mvalid_ds\u001b[49m\u001b[43m,\u001b[49m\u001b[43m \u001b[49m\u001b[43mtest_items\u001b[49m\u001b[43m,\u001b[49m\u001b[43m \u001b[49m\u001b[43mrm_tfms\u001b[49m\u001b[38;5;241;43m=\u001b[39;49m\u001b[43mrm_type_tfms\u001b[49m\u001b[43m,\u001b[49m\u001b[43m \u001b[49m\u001b[43mwith_labels\u001b[49m\u001b[38;5;241;43m=\u001b[39;49m\u001b[43mwith_labels\u001b[49m\n\u001b[1;32m    406\u001b[0m \u001b[43m                      \u001b[49m\u001b[43m)\u001b[49m \u001b[38;5;28;01mif\u001b[39;00m \u001b[38;5;28misinstance\u001b[39m(\u001b[38;5;28mself\u001b[39m\u001b[38;5;241m.\u001b[39mvalid_ds, (Datasets, TfmdLists)) \u001b[38;5;28;01melse\u001b[39;00m test_items\n\u001b[1;32m    407\u001b[0m     \u001b[38;5;28;01mreturn\u001b[39;00m \u001b[38;5;28mself\u001b[39m\u001b[38;5;241m.\u001b[39mvalid\u001b[38;5;241m.\u001b[39mnew(test_ds, \u001b[38;5;241m*\u001b[39m\u001b[38;5;241m*\u001b[39mkwargs)\n",
      "File \u001b[0;32m~/mambaforge/lib/python3.9/site-packages/fastai/data/core.py:389\u001b[0m, in \u001b[0;36mtest_set\u001b[0;34m(dsets, test_items, rm_tfms, with_labels)\u001b[0m\n\u001b[1;32m    387\u001b[0m tls \u001b[38;5;241m=\u001b[39m dsets\u001b[38;5;241m.\u001b[39mtls \u001b[38;5;28;01mif\u001b[39;00m with_labels \u001b[38;5;28;01melse\u001b[39;00m dsets\u001b[38;5;241m.\u001b[39mtls[:dsets\u001b[38;5;241m.\u001b[39mn_inp]\n\u001b[1;32m    388\u001b[0m test_tls \u001b[38;5;241m=\u001b[39m [tl\u001b[38;5;241m.\u001b[39m_new(test_items, split_idx\u001b[38;5;241m=\u001b[39m\u001b[38;5;241m1\u001b[39m) \u001b[38;5;28;01mfor\u001b[39;00m tl \u001b[38;5;129;01min\u001b[39;00m tls]\n\u001b[0;32m--> 389\u001b[0m \u001b[38;5;28;01mif\u001b[39;00m rm_tfms \u001b[38;5;129;01mis\u001b[39;00m \u001b[38;5;28;01mNone\u001b[39;00m: rm_tfms \u001b[38;5;241m=\u001b[39m [tl\u001b[38;5;241m.\u001b[39minfer_idx(get_first(test_items)) \u001b[38;5;28;01mfor\u001b[39;00m tl \u001b[38;5;129;01min\u001b[39;00m test_tls]\n\u001b[1;32m    390\u001b[0m \u001b[38;5;28;01melse\u001b[39;00m:               rm_tfms \u001b[38;5;241m=\u001b[39m tuplify(rm_tfms, match\u001b[38;5;241m=\u001b[39mtest_tls)\n\u001b[1;32m    391\u001b[0m \u001b[38;5;28;01mfor\u001b[39;00m i,j \u001b[38;5;129;01min\u001b[39;00m \u001b[38;5;28menumerate\u001b[39m(rm_tfms): test_tls[i]\u001b[38;5;241m.\u001b[39mtfms\u001b[38;5;241m.\u001b[39mfs \u001b[38;5;241m=\u001b[39m test_tls[i]\u001b[38;5;241m.\u001b[39mtfms\u001b[38;5;241m.\u001b[39mfs[j:]\n",
      "File \u001b[0;32m~/mambaforge/lib/python3.9/site-packages/fastai/data/core.py:389\u001b[0m, in \u001b[0;36m<listcomp>\u001b[0;34m(.0)\u001b[0m\n\u001b[1;32m    387\u001b[0m tls \u001b[38;5;241m=\u001b[39m dsets\u001b[38;5;241m.\u001b[39mtls \u001b[38;5;28;01mif\u001b[39;00m with_labels \u001b[38;5;28;01melse\u001b[39;00m dsets\u001b[38;5;241m.\u001b[39mtls[:dsets\u001b[38;5;241m.\u001b[39mn_inp]\n\u001b[1;32m    388\u001b[0m test_tls \u001b[38;5;241m=\u001b[39m [tl\u001b[38;5;241m.\u001b[39m_new(test_items, split_idx\u001b[38;5;241m=\u001b[39m\u001b[38;5;241m1\u001b[39m) \u001b[38;5;28;01mfor\u001b[39;00m tl \u001b[38;5;129;01min\u001b[39;00m tls]\n\u001b[0;32m--> 389\u001b[0m \u001b[38;5;28;01mif\u001b[39;00m rm_tfms \u001b[38;5;129;01mis\u001b[39;00m \u001b[38;5;28;01mNone\u001b[39;00m: rm_tfms \u001b[38;5;241m=\u001b[39m [tl\u001b[38;5;241m.\u001b[39minfer_idx(\u001b[43mget_first\u001b[49m\u001b[43m(\u001b[49m\u001b[43mtest_items\u001b[49m\u001b[43m)\u001b[49m) \u001b[38;5;28;01mfor\u001b[39;00m tl \u001b[38;5;129;01min\u001b[39;00m test_tls]\n\u001b[1;32m    390\u001b[0m \u001b[38;5;28;01melse\u001b[39;00m:               rm_tfms \u001b[38;5;241m=\u001b[39m tuplify(rm_tfms, match\u001b[38;5;241m=\u001b[39mtest_tls)\n\u001b[1;32m    391\u001b[0m \u001b[38;5;28;01mfor\u001b[39;00m i,j \u001b[38;5;129;01min\u001b[39;00m \u001b[38;5;28menumerate\u001b[39m(rm_tfms): test_tls[i]\u001b[38;5;241m.\u001b[39mtfms\u001b[38;5;241m.\u001b[39mfs \u001b[38;5;241m=\u001b[39m test_tls[i]\u001b[38;5;241m.\u001b[39mtfms\u001b[38;5;241m.\u001b[39mfs[j:]\n",
      "File \u001b[0;32m~/mambaforge/lib/python3.9/site-packages/fastai/torch_core.py:546\u001b[0m, in \u001b[0;36mget_first\u001b[0;34m(c)\u001b[0m\n\u001b[1;32m    544\u001b[0m \u001b[38;5;28;01mdef\u001b[39;00m \u001b[38;5;21mget_first\u001b[39m(c):\n\u001b[1;32m    545\u001b[0m     \u001b[38;5;124m\"\u001b[39m\u001b[38;5;124mGet the first element of c, even if c is a dataframe\u001b[39m\u001b[38;5;124m\"\u001b[39m\n\u001b[0;32m--> 546\u001b[0m     \u001b[38;5;28;01mreturn\u001b[39;00m \u001b[38;5;28;43mgetattr\u001b[39;49m\u001b[43m(\u001b[49m\u001b[43mc\u001b[49m\u001b[43m,\u001b[49m\u001b[43m \u001b[49m\u001b[38;5;124;43m'\u001b[39;49m\u001b[38;5;124;43miloc\u001b[39;49m\u001b[38;5;124;43m'\u001b[39;49m\u001b[43m,\u001b[49m\u001b[43m \u001b[49m\u001b[43mc\u001b[49m\u001b[43m)\u001b[49m\u001b[43m[\u001b[49m\u001b[38;5;241;43m0\u001b[39;49m\u001b[43m]\u001b[49m\n",
      "File \u001b[0;32m~/mambaforge/lib/python3.9/site-packages/fastcore/foundation.py:111\u001b[0m, in \u001b[0;36mL.__getitem__\u001b[0;34m(self, idx)\u001b[0m\n\u001b[0;32m--> 111\u001b[0m \u001b[38;5;28;01mdef\u001b[39;00m \u001b[38;5;21m__getitem__\u001b[39m(\u001b[38;5;28mself\u001b[39m, idx): \u001b[38;5;28;01mreturn\u001b[39;00m \u001b[38;5;28;43mself\u001b[39;49m\u001b[38;5;241;43m.\u001b[39;49m\u001b[43m_get\u001b[49m\u001b[43m(\u001b[49m\u001b[43midx\u001b[49m\u001b[43m)\u001b[49m \u001b[38;5;28;01mif\u001b[39;00m is_indexer(idx) \u001b[38;5;28;01melse\u001b[39;00m L(\u001b[38;5;28mself\u001b[39m\u001b[38;5;241m.\u001b[39m_get(idx), use_list\u001b[38;5;241m=\u001b[39m\u001b[38;5;28;01mNone\u001b[39;00m)\n",
      "File \u001b[0;32m~/mambaforge/lib/python3.9/site-packages/fastcore/foundation.py:115\u001b[0m, in \u001b[0;36mL._get\u001b[0;34m(self, i)\u001b[0m\n\u001b[1;32m    114\u001b[0m \u001b[38;5;28;01mdef\u001b[39;00m \u001b[38;5;21m_get\u001b[39m(\u001b[38;5;28mself\u001b[39m, i):\n\u001b[0;32m--> 115\u001b[0m     \u001b[38;5;28;01mif\u001b[39;00m is_indexer(i) \u001b[38;5;129;01mor\u001b[39;00m \u001b[38;5;28misinstance\u001b[39m(i,\u001b[38;5;28mslice\u001b[39m): \u001b[38;5;28;01mreturn\u001b[39;00m \u001b[38;5;28;43mgetattr\u001b[39;49m\u001b[43m(\u001b[49m\u001b[38;5;28;43mself\u001b[39;49m\u001b[38;5;241;43m.\u001b[39;49m\u001b[43mitems\u001b[49m\u001b[43m,\u001b[49m\u001b[38;5;124;43m'\u001b[39;49m\u001b[38;5;124;43miloc\u001b[39;49m\u001b[38;5;124;43m'\u001b[39;49m\u001b[43m,\u001b[49m\u001b[38;5;28;43mself\u001b[39;49m\u001b[38;5;241;43m.\u001b[39;49m\u001b[43mitems\u001b[49m\u001b[43m)\u001b[49m\u001b[43m[\u001b[49m\u001b[43mi\u001b[49m\u001b[43m]\u001b[49m\n\u001b[1;32m    116\u001b[0m     i \u001b[38;5;241m=\u001b[39m mask2idxs(i)\n\u001b[1;32m    117\u001b[0m     \u001b[38;5;28;01mreturn\u001b[39;00m (\u001b[38;5;28mself\u001b[39m\u001b[38;5;241m.\u001b[39mitems\u001b[38;5;241m.\u001b[39miloc[\u001b[38;5;28mlist\u001b[39m(i)] \u001b[38;5;28;01mif\u001b[39;00m \u001b[38;5;28mhasattr\u001b[39m(\u001b[38;5;28mself\u001b[39m\u001b[38;5;241m.\u001b[39mitems,\u001b[38;5;124m'\u001b[39m\u001b[38;5;124miloc\u001b[39m\u001b[38;5;124m'\u001b[39m)\n\u001b[1;32m    118\u001b[0m             \u001b[38;5;28;01melse\u001b[39;00m \u001b[38;5;28mself\u001b[39m\u001b[38;5;241m.\u001b[39mitems\u001b[38;5;241m.\u001b[39m__array__()[(i,)] \u001b[38;5;28;01mif\u001b[39;00m \u001b[38;5;28mhasattr\u001b[39m(\u001b[38;5;28mself\u001b[39m\u001b[38;5;241m.\u001b[39mitems,\u001b[38;5;124m'\u001b[39m\u001b[38;5;124m__array__\u001b[39m\u001b[38;5;124m'\u001b[39m)\n\u001b[1;32m    119\u001b[0m             \u001b[38;5;28;01melse\u001b[39;00m [\u001b[38;5;28mself\u001b[39m\u001b[38;5;241m.\u001b[39mitems[i_] \u001b[38;5;28;01mfor\u001b[39;00m i_ \u001b[38;5;129;01min\u001b[39;00m i])\n",
      "\u001b[0;31mIndexError\u001b[0m: list index out of range"
     ]
    }
   ],
   "source": [
    "train('Convnext', arch, item=Resize(240, method='squish'), batch=aug_transforms(size=224), accum=False)"
   ]
  },
  {
   "cell_type": "code",
   "execution_count": null,
   "id": "7ae07f02",
   "metadata": {},
   "outputs": [],
   "source": [
    "save_pickle('tta_res_convnextM1.pkl', tta_res)"
   ]
  },
  {
   "cell_type": "code",
   "execution_count": null,
   "id": "3ebd0814",
   "metadata": {},
   "outputs": [],
   "source": [
    "tta_res=load_pickle('tta_res_convnextM16k.pkl')"
   ]
  },
  {
   "cell_type": "code",
   "execution_count": null,
   "id": "52cf9b4f",
   "metadata": {},
   "outputs": [],
   "source": [
    "tta_prs = first(zip(*tta_res))"
   ]
  },
  {
   "cell_type": "code",
   "execution_count": null,
   "id": "4867b490",
   "metadata": {},
   "outputs": [],
   "source": [
    "t_tta = torch.stack(tta_prs)"
   ]
  },
  {
   "cell_type": "code",
   "execution_count": null,
   "id": "b8c56269",
   "metadata": {},
   "outputs": [],
   "source": [
    "avg_pr = t_tta.mean(0)\n",
    "idxs = avg_pr.argmax(dim=1)\n",
    "idxs.shape"
   ]
  },
  {
   "cell_type": "code",
   "execution_count": null,
   "id": "b09b0a22",
   "metadata": {},
   "outputs": [],
   "source": [
    "# needs work to get the right sub format\n",
    "dls = ImageDataLoaders.from_folder(trn_path, valid_pct=0.2, item_tfms=Resize(224))\n",
    "mapping = dict(enumerate(dls.vocab))\n",
    "ss = pd.read_csv('data/sample_submission.csv')\n",
    "results = pd.Series(idxs.numpy(), name='idxs').map(mapping)\n",
    "ss.label = results\n",
    "ss.to_csv('data/submissions/subm.csv', index=False)"
   ]
  },
  {
   "cell_type": "code",
   "execution_count": null,
   "id": "a2ffceb1",
   "metadata": {},
   "outputs": [],
   "source": [
    "ss"
   ]
  },
  {
   "cell_type": "code",
   "execution_count": null,
   "id": "71ce838f",
   "metadata": {},
   "outputs": [],
   "source": [
    "!kaggle competitions submit -c unifesp-x-ray-body-part-classifier -f data/submissions/subm.csv -m \"M1 ConvNext\""
   ]
  }
 ],
 "metadata": {
  "kernelspec": {
   "display_name": "Python 3 (ipykernel)",
   "language": "python",
   "name": "python3"
  },
  "language_info": {
   "codemirror_mode": {
    "name": "ipython",
    "version": 3
   },
   "file_extension": ".py",
   "mimetype": "text/x-python",
   "name": "python",
   "nbconvert_exporter": "python",
   "pygments_lexer": "ipython3",
   "version": "3.9.13"
  }
 },
 "nbformat": 4,
 "nbformat_minor": 5
}
